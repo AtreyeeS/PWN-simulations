{
 "cells": [
  {
   "cell_type": "markdown",
   "metadata": {},
   "source": [
    "# Add a user defined model\n",
    "\n",
    "- energy dependent spatial model\n",
    "- gaussian with sigma(E)"
   ]
  },
  {
   "cell_type": "code",
   "execution_count": 5,
   "metadata": {},
   "outputs": [],
   "source": [
    "%matplotlib inline\n",
    "import matplotlib.pyplot as plt\n",
    "from pathlib import Path\n",
    "import numpy as np\n",
    "from astropy import units as u\n",
    "from astropy.coordinates import SkyCoord, Angle\n",
    "from astropy.coordinates.angle_utilities import angular_separation, position_angle\n",
    "from regions import CircleSkyRegion, RectangleSkyRegion\n",
    "from gammapy.data import DataStore\n",
    "from gammapy.maps import WcsGeom, MapAxis, Map\n",
    "from gammapy.makers import (\n",
    "    MapDatasetMaker,  \n",
    "    SafeMaskMaker, \n",
    "    FoVBackgroundMaker\n",
    ")\n",
    "from gammapy.datasets import MapDataset\n",
    "from gammapy.modeling.models import (\n",
    "    SkyModel,\n",
    "    PowerLawSpectralModel,\n",
    "    PointSpatialModel,\n",
    "    SkyModelBase\n",
    ")\n",
    "from gammapy.estimators import FluxPointsEstimator\n",
    "from gammapy.modeling import Parameter, Parameters, Fit\n"
   ]
  },
  {
   "cell_type": "code",
   "execution_count": 6,
   "metadata": {},
   "outputs": [],
   "source": [
    "class EneDepGaussian(SkyModelBase):\n",
    "    \n",
    "    tag = \"EneDepGaussian\"\n",
    "    lon_0 = Parameter(\"lon_0\", \"0 deg\")\n",
    "    lat_0 = Parameter(\"lat_0\", \"0 deg\", min=-90, max=90)\n",
    "    amplitude = Parameter(\"amplitude\", \"1e-12 cm-2 s-1 TeV-1\")\n",
    "    reference = Parameter(\"reference\", \"1 TeV\", frozen=True)\n",
    "    alpha = Parameter(\"alpha\", 1.0) #index for gaussian width\n",
    "    index = Parameter(\"index\", 2.0) #spectral index\n",
    "    \n",
    "    _apply_irf_default = {\"exposure\": True, \"psf\": True, \"edisp\": True}\n",
    "    \n",
    "    def sigma(self, energy):\n",
    "        return np.power(energy/self.reference.quantity, -self.alpha.value)\n",
    "    \n",
    "    def evaluation_radius(self, sigma):\n",
    "        return 5 * sigma\n",
    "    \n",
    "    def evaluate_geom(self, geom, gti=None):\n",
    "        coords = geom.get_coord(frame=geom.frame)\n",
    "        return self(coords.lon, coords.lat, coords[\"energy_true\"])\n",
    "    \n",
    "    def evaluate(self, lon, lat, energy, time=None):\n",
    "        \"\"\"Evaluate model\"\"\"\n",
    "        sep = angular_separation(lon, lat, self.lon_0.quantity, self.lat_0.quantity)\n",
    "        sigma = self.sigma(energy)\n",
    "        exponent =  (-0.5 * (sep / sigma) ** 2.0).value\n",
    "        spec = self.amplitude.quantity * np.power((energy / self.reference.quantity), -self.index.value)\n",
    "        return spec*np.exp(exponent)\n",
    "            \n",
    "        "
   ]
  },
  {
   "cell_type": "code",
   "execution_count": 48,
   "metadata": {},
   "outputs": [],
   "source": [
    "model = EneDepGaussian(index=2, alpha=2)"
   ]
  },
  {
   "cell_type": "code",
   "execution_count": 49,
   "metadata": {},
   "outputs": [
    {
     "data": {
      "text/plain": [
       "Parameter(name='lon_0', value=0.0, factor=0.0, scale=1.0, unit=Unit(\"deg\"), min=nan, max=nan, frozen=False, id=0x11cae7b70)"
      ]
     },
     "execution_count": 49,
     "metadata": {},
     "output_type": "execute_result"
    }
   ],
   "source": [
    "model.lon_0"
   ]
  },
  {
   "cell_type": "code",
   "execution_count": 50,
   "metadata": {},
   "outputs": [
    {
     "data": {
      "text/plain": [
       "Parameter(name='index', value=2.0, factor=2.0, scale=1.0, unit=Unit(dimensionless), min=nan, max=nan, frozen=False, id=0x11d59e390)"
      ]
     },
     "execution_count": 50,
     "metadata": {},
     "output_type": "execute_result"
    }
   ],
   "source": [
    "model.index"
   ]
  },
  {
   "cell_type": "code",
   "execution_count": 51,
   "metadata": {},
   "outputs": [
    {
     "data": {
      "text/latex": [
       "$[1,~0.30170882,~0.09102821,~0.027464014,~0.008286135,~0.0025] \\; \\mathrm{}$"
      ],
      "text/plain": [
       "<Quantity [1.        , 0.30170882, 0.09102821, 0.02746401, 0.00828614,\n",
       "           0.0025    ]>"
      ]
     },
     "execution_count": 51,
     "metadata": {},
     "output_type": "execute_result"
    }
   ],
   "source": [
    "model.sigma(energy_axis.edges)"
   ]
  },
  {
   "cell_type": "code",
   "execution_count": 52,
   "metadata": {},
   "outputs": [],
   "source": [
    "coords = geom.get_coord(frame=geom.frame)"
   ]
  },
  {
   "cell_type": "code",
   "execution_count": 53,
   "metadata": {},
   "outputs": [],
   "source": [
    "model1 = model.evaluate_geom(geom)"
   ]
  },
  {
   "cell_type": "code",
   "execution_count": 20,
   "metadata": {},
   "outputs": [],
   "source": [
    "npred = Map.from_geom(geom=geom, data=model1.data)"
   ]
  },
  {
   "cell_type": "code",
   "execution_count": 21,
   "metadata": {},
   "outputs": [
    {
     "data": {
      "application/vnd.jupyter.widget-view+json": {
       "model_id": "499268b643494349993d2339aefbe920",
       "version_major": 2,
       "version_minor": 0
      },
      "text/plain": [
       "interactive(children=(SelectionSlider(continuous_update=False, description='Select energy_true:', layout=Layou…"
      ]
     },
     "metadata": {},
     "output_type": "display_data"
    }
   ],
   "source": [
    "npred.plot_interactive(add_cbar=True)"
   ]
  },
  {
   "cell_type": "code",
   "execution_count": 340,
   "metadata": {},
   "outputs": [],
   "source": [
    "class EneDepAsyGaussian(SkyModelBase):\n",
    "    \n",
    "\n",
    "    tag = \"Gaussian3DModel\"\n",
    "\n",
    "    lon_0 = Parameter(\"lon_0\", \"0 deg\")\n",
    "    lat_0 = Parameter(\"lat_0\", \"0 deg\", min=-90, max=90)\n",
    "    ellip = Parameter(\"e\", 0, min=0, max=1, frozen=True)\n",
    "    phi = Parameter(\"phi\", \"0 deg\", frozen=True)\n",
    "    amplitude = Parameter(\"amplitude\", \"1e-12 cm-2 s-1 TeV-1\", min=0) # diff flux at reference\n",
    "    norm_sigma = Parameter(\"norm_sigma\", \"1 deg\", min=0) #semi-major axis at reference\n",
    "    reference = Parameter(\"reference\", \"1 TeV\", frozen=True) #reference energy\n",
    "    alpha = Parameter(\"alpha\", 1.0) #index for gaussian width\n",
    "    delta = Parameter(\"delta\", 0.0) #index for ellipticy variation\n",
    "    index = Parameter(\"index\", 2.0) #spectral index\n",
    "\n",
    "    \n",
    "    def __init__(self, **kwargs):\n",
    "        frame = kwargs.pop(\"frame\", \"galactic\")\n",
    "        super().__init__(**kwargs)\n",
    "        if not hasattr(self, \"frame\"):\n",
    "            self.frame = frame\n",
    "            \n",
    "\n",
    "    def sigma_major(self, energy):\n",
    "        s_maj = self.norm_sigma * np.power(energy/self.reference.quantity, -self.alpha.value)\n",
    "        return Angle(s_maj)\n",
    "    \n",
    " \n",
    "    def sigma_minor(self, energy):\n",
    "        s_maj = self.sigma_major(energy)\n",
    "        e = self.ellip * np.power(energy/self.reference.quantity, -self.delta.value)\n",
    "        s_min = Angle(s_maj * np.sqrt(1 - e ** 2))\n",
    "        return s_min \n",
    "    \n",
    "   \n",
    "    def sigma_eff(self, lon, lat, energy):\n",
    "        s_maj = self.sigma_major(energy)\n",
    "        s_min = self.sigma_minor(energy)    \n",
    "        phi_0 = position_angle(self.lon_0.quantity, self.lat_0.quantity, lon, lat)\n",
    "        d_phi = self.phi - phi_0\n",
    "        a2 = np.power(s_maj*np.sin(d_phi), 2.0) \n",
    "        b2 = np.power(s_min*np.cos(d_phi), 2.0) \n",
    "        denominator = np.sqrt(a2 + b2)\n",
    "        sigma_eff = s_maj * s_min / denominator\n",
    "        return sigma_eff\n",
    "\n",
    "    \n",
    "    def evaluate(self, lon, lat, energy, time=None):\n",
    "        \"\"\"Evaluate model\"\"\"\n",
    "        sep = angular_separation(lon, lat, self.lon_0.quantity, self.lat_0.quantity)\n",
    "        sigma = self.sigma_eff(lon, lat, energy)\n",
    "        exponent =  (-0.5 * (sep / sigma) ** 2.0).value\n",
    "        spec = self.amplitude.quantity * np.power((energy / self.reference.quantity), -self.index.value)\n",
    "        return spec*np.exp(exponent)\n",
    "    \n",
    "    def evaluate_geom(self, geom, gti=None):\n",
    "        coords = geom.get_coord(frame=geom.frame)\n",
    "        return self(coords.lon, coords.lat, coords[\"energy_true\"])"
   ]
  },
  {
   "cell_type": "code",
   "execution_count": 341,
   "metadata": {},
   "outputs": [],
   "source": [
    "elow = 1.0\n",
    "ehigh = 20.0\n",
    "pos = SkyCoord(20.0, 20.0, unit='deg', frame=\"icrs\")\n",
    "energy_axis = MapAxis.from_bounds(elow, ehigh, nbin=10, unit='TeV', interp='log', name=\"energy_true\")\n",
    "geom = WcsGeom.create(binsz=0.05, skydir=pos, width=6, frame=\"icrs\",\n",
    "    proj=\"CAR\", axes=[energy_axis])\n"
   ]
  },
  {
   "cell_type": "code",
   "execution_count": 342,
   "metadata": {},
   "outputs": [],
   "source": [
    "model = EneDepAsyGaussian(frame=\"icrs\")\n",
    "model.index.value = 2.0\n",
    "model.alpha.value = 2.0\n",
    "model.phi.value = 90.0\n",
    "model.ellip.value = 0.9\n",
    "model.lon_0.value = 20\n",
    "model.lat_0.value = 20"
   ]
  },
  {
   "cell_type": "code",
   "execution_count": 343,
   "metadata": {},
   "outputs": [
    {
     "data": {
      "text/html": [
       "<i>Table length=10</i>\n",
       "<table id=\"table4985215912\" class=\"table-striped table-bordered table-condensed\">\n",
       "<thead><tr><th>name</th><th>value</th><th>error</th><th>unit</th><th>min</th><th>max</th><th>frozen</th></tr></thead>\n",
       "<thead><tr><th>str10</th><th>float64</th><th>int64</th><th>str14</th><th>float64</th><th>float64</th><th>bool</th></tr></thead>\n",
       "<tr><td>lon_0</td><td>2.000e+01</td><td>0.000e+00</td><td>deg</td><td>nan</td><td>nan</td><td>False</td></tr>\n",
       "<tr><td>lat_0</td><td>2.000e+01</td><td>0.000e+00</td><td>deg</td><td>-9.000e+01</td><td>9.000e+01</td><td>False</td></tr>\n",
       "<tr><td>e</td><td>9.000e-01</td><td>0.000e+00</td><td></td><td>0.000e+00</td><td>1.000e+00</td><td>True</td></tr>\n",
       "<tr><td>phi</td><td>9.000e+01</td><td>0.000e+00</td><td>deg</td><td>nan</td><td>nan</td><td>True</td></tr>\n",
       "<tr><td>amplitude</td><td>1.000e-12</td><td>0.000e+00</td><td>cm-2 s-1 TeV-1</td><td>0.000e+00</td><td>nan</td><td>False</td></tr>\n",
       "<tr><td>norm_sigma</td><td>1.000e+00</td><td>0.000e+00</td><td>deg</td><td>0.000e+00</td><td>nan</td><td>False</td></tr>\n",
       "<tr><td>reference</td><td>1.000e+00</td><td>0.000e+00</td><td>TeV</td><td>nan</td><td>nan</td><td>True</td></tr>\n",
       "<tr><td>alpha</td><td>2.000e+00</td><td>0.000e+00</td><td></td><td>nan</td><td>nan</td><td>False</td></tr>\n",
       "<tr><td>delta</td><td>0.000e+00</td><td>0.000e+00</td><td></td><td>nan</td><td>nan</td><td>False</td></tr>\n",
       "<tr><td>index</td><td>2.000e+00</td><td>0.000e+00</td><td></td><td>nan</td><td>nan</td><td>False</td></tr>\n",
       "</table>"
      ],
      "text/plain": [
       "<Table length=10>\n",
       "   name      value     error        unit         min        max    frozen\n",
       "  str10     float64    int64       str14       float64    float64   bool \n",
       "---------- --------- --------- -------------- ---------- --------- ------\n",
       "     lon_0 2.000e+01 0.000e+00            deg        nan       nan  False\n",
       "     lat_0 2.000e+01 0.000e+00            deg -9.000e+01 9.000e+01  False\n",
       "         e 9.000e-01 0.000e+00                 0.000e+00 1.000e+00   True\n",
       "       phi 9.000e+01 0.000e+00            deg        nan       nan   True\n",
       " amplitude 1.000e-12 0.000e+00 cm-2 s-1 TeV-1  0.000e+00       nan  False\n",
       "norm_sigma 1.000e+00 0.000e+00            deg  0.000e+00       nan  False\n",
       " reference 1.000e+00 0.000e+00            TeV        nan       nan   True\n",
       "     alpha 2.000e+00 0.000e+00                       nan       nan  False\n",
       "     delta 0.000e+00 0.000e+00                       nan       nan  False\n",
       "     index 2.000e+00 0.000e+00                       nan       nan  False"
      ]
     },
     "execution_count": 343,
     "metadata": {},
     "output_type": "execute_result"
    }
   ],
   "source": [
    "model.parameters.to_table()"
   ]
  },
  {
   "cell_type": "code",
   "execution_count": 344,
   "metadata": {},
   "outputs": [
    {
     "data": {
      "text/latex": [
       "[$1^\\circ00{}^\\prime00{}^{\\prime\\prime}$\n",
       " $0^\\circ32{}^\\prime57.409{}^{\\prime\\prime}$\n",
       " $0^\\circ18{}^\\prime06.1517{}^{\\prime\\prime}$\n",
       " $0^\\circ09{}^\\prime56.6017{}^{\\prime\\prime}$\n",
       " $0^\\circ05{}^\\prime27.7016{}^{\\prime\\prime}$\n",
       " $0^\\circ03{}^\\prime00{}^{\\prime\\prime}$\n",
       " $0^\\circ01{}^\\prime38.8704{}^{\\prime\\prime}$\n",
       " $0^\\circ00{}^\\prime54.3076{}^{\\prime\\prime}$\n",
       " $0^\\circ00{}^\\prime29.8301{}^{\\prime\\prime}$\n",
       " $0^\\circ00{}^\\prime16.3851{}^{\\prime\\prime}$\n",
       " $0^\\circ00{}^\\prime09{}^{\\prime\\prime}$]"
      ],
      "text/plain": [
       "<Angle [1.        , 0.54928027, 0.30170882, 0.1657227 , 0.09102821,\n",
       "        0.05      , 0.02746401, 0.01508544, 0.00828614, 0.00455141,\n",
       "        0.0025    ] deg>"
      ]
     },
     "execution_count": 344,
     "metadata": {},
     "output_type": "execute_result"
    }
   ],
   "source": [
    "model.sigma_major(energy=energy_axis.edges)"
   ]
  },
  {
   "cell_type": "code",
   "execution_count": 345,
   "metadata": {},
   "outputs": [
    {
     "data": {
      "text/plain": [
       "'icrs'"
      ]
     },
     "execution_count": 345,
     "metadata": {},
     "output_type": "execute_result"
    }
   ],
   "source": [
    "model.frame"
   ]
  },
  {
   "cell_type": "code",
   "execution_count": 346,
   "metadata": {},
   "outputs": [
    {
     "data": {
      "text/latex": [
       "[$0^\\circ26{}^\\prime09.2036{}^{\\prime\\prime}$\n",
       " $0^\\circ14{}^\\prime21.9326{}^{\\prime\\prime}$\n",
       " $0^\\circ07{}^\\prime53.4426{}^{\\prime\\prime}$\n",
       " $0^\\circ04{}^\\prime20.0527{}^{\\prime\\prime}$\n",
       " $0^\\circ02{}^\\prime22.8418{}^{\\prime\\prime}$\n",
       " $0^\\circ01{}^\\prime18.4602{}^{\\prime\\prime}$\n",
       " $0^\\circ00{}^\\prime43.0966{}^{\\prime\\prime}$\n",
       " $0^\\circ00{}^\\prime23.6721{}^{\\prime\\prime}$\n",
       " $0^\\circ00{}^\\prime13.0026{}^{\\prime\\prime}$\n",
       " $0^\\circ00{}^\\prime07.1421{}^{\\prime\\prime}$\n",
       " $0^\\circ00{}^\\prime03.923{}^{\\prime\\prime}$]"
      ],
      "text/plain": [
       "<Angle [0.43588989, 0.23942572, 0.13151182, 0.07223685, 0.03967828,\n",
       "        0.02179449, 0.01197129, 0.00657559, 0.00361184, 0.00198391,\n",
       "        0.00108972] deg>"
      ]
     },
     "execution_count": 346,
     "metadata": {},
     "output_type": "execute_result"
    }
   ],
   "source": [
    "model.sigma_minor(energy=energy_axis.edges)"
   ]
  },
  {
   "cell_type": "code",
   "execution_count": 347,
   "metadata": {},
   "outputs": [
    {
     "data": {
      "text/latex": [
       "$[0.58255381,~0.31998531,~0.17576162,~0.096542391,~0.053028831,~0.02912769,~0.015999266,~0.008788081,~0.0048271195,~0.0026514415,~0.0014563845] \\; \\mathrm{{}^{\\circ}}$"
      ],
      "text/plain": [
       "<Quantity [0.58255381, 0.31998531, 0.17576162, 0.09654239, 0.05302883,\n",
       "           0.02912769, 0.01599927, 0.00878808, 0.00482712, 0.00265144,\n",
       "           0.00145638] deg>"
      ]
     },
     "execution_count": 347,
     "metadata": {},
     "output_type": "execute_result"
    }
   ],
   "source": [
    "model.sigma_eff(lon=0.5*u.deg, lat=1.0*u.deg, energy=energy_axis.edges)"
   ]
  },
  {
   "cell_type": "code",
   "execution_count": 348,
   "metadata": {},
   "outputs": [
    {
     "data": {
      "text/latex": [
       "$[0.57142672,~0.31387342,~0.17240448,~0.094698379,~0.052015951,~0.028571336,~0.015693671,~0.008620224,~0.004734919,~0.0026007976,~0.0014285668] \\; \\mathrm{{}^{\\circ}}$"
      ],
      "text/plain": [
       "<Quantity [0.57142672, 0.31387342, 0.17240448, 0.09469838, 0.05201595,\n",
       "           0.02857134, 0.01569367, 0.00862022, 0.00473492, 0.0026008 ,\n",
       "           0.00142857] deg>"
      ]
     },
     "execution_count": 348,
     "metadata": {},
     "output_type": "execute_result"
    }
   ],
   "source": [
    "model.sigma_eff(lon=1.0*u.deg, lat=0.5*u.deg, energy=energy_axis.edges)"
   ]
  },
  {
   "cell_type": "code",
   "execution_count": 349,
   "metadata": {},
   "outputs": [],
   "source": [
    "model1 = model.evaluate_geom(geom)"
   ]
  },
  {
   "cell_type": "code",
   "execution_count": 350,
   "metadata": {},
   "outputs": [],
   "source": [
    "npred = Map.from_geom(geom=geom, data=model1.data)"
   ]
  },
  {
   "cell_type": "code",
   "execution_count": 351,
   "metadata": {},
   "outputs": [
    {
     "data": {
      "application/vnd.jupyter.widget-view+json": {
       "model_id": "80af2f9be6734adb8057f3fa9e682116",
       "version_major": 2,
       "version_minor": 0
      },
      "text/plain": [
       "interactive(children=(SelectionSlider(continuous_update=False, description='Select energy_true:', layout=Layou…"
      ]
     },
     "metadata": {},
     "output_type": "display_data"
    }
   ],
   "source": [
    "npred.plot_interactive(add_cbar=True)"
   ]
  },
  {
   "cell_type": "code",
   "execution_count": 292,
   "metadata": {},
   "outputs": [],
   "source": [
    "from gammapy.modeling.models import GaussianSpatialModel"
   ]
  },
  {
   "cell_type": "code",
   "execution_count": 311,
   "metadata": {},
   "outputs": [],
   "source": [
    "m = GaussianSpatialModel()\n",
    "m.e.value = 0.9"
   ]
  },
  {
   "cell_type": "code",
   "execution_count": 312,
   "metadata": {},
   "outputs": [],
   "source": [
    "m1 = m.evaluate_geom(geom=geom.to_image())"
   ]
  },
  {
   "cell_type": "code",
   "execution_count": 313,
   "metadata": {},
   "outputs": [],
   "source": [
    "npred = Map.from_geom(geom=geom.to_image(), data=m1.data)"
   ]
  },
  {
   "cell_type": "code",
   "execution_count": 314,
   "metadata": {},
   "outputs": [
    {
     "data": {
      "text/plain": [
       "(<Figure size 432x288 with 2 Axes>,\n",
       " <matplotlib.axes._subplots.WCSAxesSubplot at 0x127ff8748>,\n",
       " <matplotlib.colorbar.Colorbar at 0x128220c50>)"
      ]
     },
     "execution_count": 314,
     "metadata": {},
     "output_type": "execute_result"
    },
    {
     "data": {
      "image/png": "[encoded data removed]",
      "text/plain": [
       "<Figure size 432x288 with 2 Axes>"
      ]
     },
     "metadata": {
      "needs_background": "light"
     },
     "output_type": "display_data"
    }
   ],
   "source": [
    "npred.plot(add_cbar=True)"
   ]
  },
  {
   "cell_type": "code",
   "execution_count": null,
   "metadata": {},
   "outputs": [],
   "source": []
  }
 ],
 "metadata": {
  "kernelspec": {
   "display_name": "Python 3",
   "language": "python",
   "name": "python3"
  },
  "language_info": {
   "codemirror_mode": {
    "name": "ipython",
    "version": 3
   },
   "file_extension": ".py",
   "mimetype": "text/x-python",
   "name": "python",
   "nbconvert_exporter": "python",
   "pygments_lexer": "ipython3",
   "version": "3.7.0"
  }
 },
 "nbformat": 4,
 "nbformat_minor": 4
}
